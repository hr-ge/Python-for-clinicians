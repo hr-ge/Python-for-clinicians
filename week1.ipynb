{
  "nbformat": 4,
  "nbformat_minor": 0,
  "metadata": {
    "colab": {
      "provenance": [],
      "authorship_tag": "ABX9TyMA5O4r2kwlgAKfEKS2ZSu1",
      "include_colab_link": true
    },
    "kernelspec": {
      "name": "python3",
      "display_name": "Python 3"
    },
    "language_info": {
      "name": "python"
    }
  },
  "cells": [
    {
      "cell_type": "markdown",
      "metadata": {
        "id": "view-in-github",
        "colab_type": "text"
      },
      "source": [
        "<a href=\"https://colab.research.google.com/github/hr-ge/Python-for-clinicians/blob/main/week1.ipynb\" target=\"_parent\"><img src=\"https://colab.research.google.com/assets/colab-badge.svg\" alt=\"Open In Colab\"/></a>"
      ]
    },
    {
      "cell_type": "markdown",
      "source": [
        "# Week 1: \"Hello, World!\", NumPy arrays, and more\n",
        "\n",
        "The purpose of this notebook is to introduce the reader to basic programming concepts through Python (https://www.python.org/), a high-level, general-purpose programming language. We will learn how to do basic algebra using Python and explore fundamental building blocks of programs such as variables, loops, and if-statements. We will also explore one of Python's most important libraries for data science - NumPy (https://numpy.org/)."
      ],
      "metadata": {
        "id": "pDNh97XbFH2z"
      }
    },
    {
      "cell_type": "markdown",
      "source": [
        "# Python as a calculator\n"
      ],
      "metadata": {
        "id": "I94pjqv-GpMo"
      }
    },
    {
      "cell_type": "code",
      "execution_count": null,
      "metadata": {
        "colab": {
          "base_uri": "https://localhost:8080/"
        },
        "id": "zdxueukhDDTw",
        "outputId": "794846bb-9ef4-4475-f7f9-bb11fee2a7bb"
      },
      "outputs": [
        {
          "output_type": "execute_result",
          "data": {
            "text/plain": [
              "3"
            ]
          },
          "metadata": {},
          "execution_count": 1
        }
      ],
      "source": [
        "2 + 1"
      ]
    },
    {
      "cell_type": "code",
      "source": [
        "2 - 1"
      ],
      "metadata": {
        "colab": {
          "base_uri": "https://localhost:8080/"
        },
        "id": "QodvKevcHXtx",
        "outputId": "69eebf3c-ffbf-4f56-d7fb-781b05cc048d"
      },
      "execution_count": null,
      "outputs": [
        {
          "output_type": "execute_result",
          "data": {
            "text/plain": [
              "1"
            ]
          },
          "metadata": {},
          "execution_count": 2
        }
      ]
    },
    {
      "cell_type": "code",
      "source": [
        "3 * 2"
      ],
      "metadata": {
        "colab": {
          "base_uri": "https://localhost:8080/"
        },
        "id": "3XojMwkTHbC1",
        "outputId": "f5eaa936-fbc9-468c-fcce-c9dd2b0f1885"
      },
      "execution_count": null,
      "outputs": [
        {
          "output_type": "execute_result",
          "data": {
            "text/plain": [
              "6"
            ]
          },
          "metadata": {},
          "execution_count": 3
        }
      ]
    },
    {
      "cell_type": "code",
      "source": [
        "4 / 2"
      ],
      "metadata": {
        "colab": {
          "base_uri": "https://localhost:8080/"
        },
        "id": "YI9FWI-THdlx",
        "outputId": "fd8487f9-0012-4798-bba3-33e834ccd6bf"
      },
      "execution_count": null,
      "outputs": [
        {
          "output_type": "execute_result",
          "data": {
            "text/plain": [
              "2.0"
            ]
          },
          "metadata": {},
          "execution_count": 4
        }
      ]
    },
    {
      "cell_type": "code",
      "source": [
        "5 % 2 # This is the modulus operator and this is a comment."
      ],
      "metadata": {
        "colab": {
          "base_uri": "https://localhost:8080/"
        },
        "id": "0iDIeFrPHgqP",
        "outputId": "b4915854-59d8-43f6-f411-b7a6c5c53f80"
      },
      "execution_count": null,
      "outputs": [
        {
          "output_type": "execute_result",
          "data": {
            "text/plain": [
              "1"
            ]
          },
          "metadata": {},
          "execution_count": 5
        }
      ]
    },
    {
      "cell_type": "code",
      "source": [
        "4 ** 2"
      ],
      "metadata": {
        "colab": {
          "base_uri": "https://localhost:8080/"
        },
        "id": "hcSV5T7rHssG",
        "outputId": "bfa2dca3-729e-4fa4-9c1f-5cee8c066ffc"
      },
      "execution_count": null,
      "outputs": [
        {
          "output_type": "execute_result",
          "data": {
            "text/plain": [
              "16"
            ]
          },
          "metadata": {},
          "execution_count": 6
        }
      ]
    },
    {
      "cell_type": "markdown",
      "source": [
        "# Everyone's first program: \"Hello, World!\"\n",
        "\n",
        "It is a decades-long tradition for beginner programmers like yourself to print out a \"Hello, World!\" messege to the console as their first program. It is a simple, yet effective way of getting a taste of what programming is all about. (https://medium.com/the-software-guild-blog/the-history-of-hello-world-175440f77776)"
      ],
      "metadata": {
        "id": "hwTU5rbHH8Yk"
      }
    },
    {
      "cell_type": "code",
      "source": [
        "print(\"Hello, World!\")"
      ],
      "metadata": {
        "colab": {
          "base_uri": "https://localhost:8080/"
        },
        "id": "Dvqekq8-H-Wf",
        "outputId": "876cf476-b922-44c4-dbd7-879a1127e873"
      },
      "execution_count": null,
      "outputs": [
        {
          "output_type": "stream",
          "name": "stdout",
          "text": [
            "Hello, World!\n"
          ]
        }
      ]
    },
    {
      "cell_type": "markdown",
      "source": [
        "Although simple, there is already a lot going on with this program. First of all, we have the ```print()``` function, which is one of Python's built-in functions (https://docs.python.org/3/library/functions.html). What we pass within the paranthesis of the ```print()``` function is known as an *argument*. This particular argument's *type* is what we call a *String*.\n",
        "\n",
        "**Takeaway messege:** if you want to display a piece of text on the screen, put it within single or double quotation marks ('Hello, World!' or \"Hello, World!\") and pass it to the ```print()``` function."
      ],
      "metadata": {
        "id": "r9CbQDmlJXsp"
      }
    },
    {
      "cell_type": "markdown",
      "source": [
        "# Variables\n",
        "\n",
        "One's understanding of variables as a mathematical concept is almost fully applicable to programming. In mathematics, a variable is some symbol that referes to a value that can change. In programming, variables refer to a memory location that stores some value that can be changes. In computer science, we say that we *assign* some value to some variable. Note that ```=``` is an assignment operator and does not stand for equality!"
      ],
      "metadata": {
        "id": "x6wyy3-wLpMC"
      }
    },
    {
      "cell_type": "code",
      "source": [
        "x = 1\n",
        "y = 2\n",
        "print(\"x + y = \", x + y)\n",
        "\n",
        "x = 3\n",
        "y = 4\n",
        "print(\"x + y = \", x + y)"
      ],
      "metadata": {
        "colab": {
          "base_uri": "https://localhost:8080/"
        },
        "id": "YtV50IeJM0wZ",
        "outputId": "012e9c65-ac3b-4f61-f8ff-3f28013ab2c9"
      },
      "execution_count": null,
      "outputs": [
        {
          "output_type": "stream",
          "name": "stdout",
          "text": [
            "x + y =  3\n",
            "x + y =  7\n"
          ]
        }
      ]
    },
    {
      "cell_type": "markdown",
      "source": [
        "Notice that Python code is executed line-by-line and that print statements can be a lot more complicated than what we previously saw."
      ],
      "metadata": {
        "id": "6VhW06R7NR9q"
      }
    },
    {
      "cell_type": "code",
      "source": [
        "pi = 3.14\n",
        "\n",
        "print(\"Memory address of pi:\", hex(id(pi)))"
      ],
      "metadata": {
        "colab": {
          "base_uri": "https://localhost:8080/"
        },
        "id": "biNUP1piG3t_",
        "outputId": "98c05ee4-6dce-4319-e83c-fedca09fa3b0"
      },
      "execution_count": 7,
      "outputs": [
        {
          "output_type": "stream",
          "name": "stdout",
          "text": [
            "Memory address of pi: 0x789244475b70\n"
          ]
        }
      ]
    },
    {
      "cell_type": "markdown",
      "source": [
        "# Exercise 1\n",
        "\n",
        "You are given 5 minutes to write a small script that prints out your name and age. Note that although your name is permanent, your age is not. Store your name and age in variables. You are allowed to use as many ```print()``` statements as you want but bonus points are given if you use as few as possible.\n",
        "\n"
      ],
      "metadata": {
        "id": "FzZQZDFSynYM"
      }
    },
    {
      "cell_type": "code",
      "source": [],
      "metadata": {
        "colab": {
          "base_uri": "https://localhost:8080/"
        },
        "id": "Faidn1XezH6k",
        "outputId": "2575986d-cb74-4c47-9dc7-17cef3cf0d04"
      },
      "execution_count": 1,
      "outputs": [
        {
          "output_type": "stream",
          "name": "stdout",
          "text": [
            "Hello, my name is Hristo and I am 24 years old.\n"
          ]
        }
      ]
    },
    {
      "cell_type": "markdown",
      "source": [
        "# Lists\n",
        "\n",
        "Data structures are essential in programming, as they allow us to organize data in an efficient manner. Our first taste of data structures comes in the face of *lists*. But what is a list? Essentially, a list is a data structure that contains a *n* number of elements, for example, strings, integers, etc. Here are some important properties of Python lists:\n",
        "\n",
        "\n",
        "*   Lists are indexible on the range [0, n-1].\n",
        "*   Lists are dynamic, meaning we can grow and shrink their size be adding and removing elements.\n",
        "*   Lists are mutable, meaning we can change the value stored at any given index.\n",
        "\n"
      ],
      "metadata": {
        "id": "xUZZ16m-N6qD"
      }
    },
    {
      "cell_type": "code",
      "source": [
        "ints   = [1, 2, 3]\n",
        "floats = [1.61, 2.71, 3.14]\n",
        "words  = [\"Denmark\", \"Copenhagen\", \"hospital\"]"
      ],
      "metadata": {
        "id": "7mKMZMPAPGDF"
      },
      "execution_count": null,
      "outputs": []
    },
    {
      "cell_type": "code",
      "source": [
        "print(ints)\n",
        "print(floats)\n",
        "print(words)"
      ],
      "metadata": {
        "colab": {
          "base_uri": "https://localhost:8080/"
        },
        "id": "cj1vEfwdQP7Z",
        "outputId": "0104909e-1e86-4686-b9f4-3499a0f0a6ce"
      },
      "execution_count": null,
      "outputs": [
        {
          "output_type": "stream",
          "name": "stdout",
          "text": [
            "[1, 2, 3]\n",
            "[1.61, 2.71, 3.14]\n",
            "['Denmark', 'Copenhagen', 'hospital']\n"
          ]
        }
      ]
    },
    {
      "cell_type": "markdown",
      "source": [
        "What if you want a single element from a given list? This is known as indexing."
      ],
      "metadata": {
        "id": "M-PREfDSRJbG"
      }
    },
    {
      "cell_type": "code",
      "source": [
        "print(ints[0])      # Access the first element in the ints list.\n",
        "print(floats[1])    # Access the second element in the floats list.\n",
        "print(words[2])     # Access the third element in the words list."
      ],
      "metadata": {
        "colab": {
          "base_uri": "https://localhost:8080/"
        },
        "id": "3Vp7qmWcRaOg",
        "outputId": "8a6e4499-843e-4f4a-d8e7-73b7d3f5fedf"
      },
      "execution_count": null,
      "outputs": [
        {
          "output_type": "stream",
          "name": "stdout",
          "text": [
            "1\n",
            "2.71\n",
            "hospital\n"
          ]
        }
      ]
    },
    {
      "cell_type": "markdown",
      "source": [
        "What if you want multiple elements from a given list that appear in sequence? This is known as slicing."
      ],
      "metadata": {
        "id": "UktgSpqEeol6"
      }
    },
    {
      "cell_type": "code",
      "source": [
        "print(ints[0:2])"
      ],
      "metadata": {
        "colab": {
          "base_uri": "https://localhost:8080/"
        },
        "id": "j2YbKbcbeytd",
        "outputId": "dcfd95c3-6fbb-451a-ba2a-0fb97e4a6005"
      },
      "execution_count": null,
      "outputs": [
        {
          "output_type": "stream",
          "name": "stdout",
          "text": [
            "[1, 2]\n"
          ]
        }
      ]
    },
    {
      "cell_type": "code",
      "source": [
        "print(\"Original: \", ints)\n",
        "ints.append(4)\n",
        "print(\"Appended: \", ints)\n",
        "ints.remove(1)\n",
        "print(\"Removed:  \", ints)"
      ],
      "metadata": {
        "colab": {
          "base_uri": "https://localhost:8080/"
        },
        "id": "UyeNiau8UYjq",
        "outputId": "18e213a2-17b4-4eda-f0b0-8a88c3228c10"
      },
      "execution_count": null,
      "outputs": [
        {
          "output_type": "stream",
          "name": "stdout",
          "text": [
            "Original:  [1, 2, 3]\n",
            "Appended:  [1, 2, 3, 4]\n",
            "Removed:   [2, 3, 4]\n"
          ]
        }
      ]
    },
    {
      "cell_type": "code",
      "source": [
        "ints[2] = 5\n",
        "print(\"Mutated: \", ints)"
      ],
      "metadata": {
        "colab": {
          "base_uri": "https://localhost:8080/"
        },
        "id": "chZtAJvtVlTt",
        "outputId": "7827179e-5a7c-40e3-fd43-2bfeaed25564"
      },
      "execution_count": null,
      "outputs": [
        {
          "output_type": "stream",
          "name": "stdout",
          "text": [
            "Mutated:  [2, 3, 5]\n"
          ]
        }
      ]
    },
    {
      "cell_type": "markdown",
      "source": [
        "**Note:** in reality, Python lists are a type of dynamic array. This is not you should necessarily worry about at this stage. However, consider the following video if you would like to learn more about dynamic arrays: https://www.youtube.com/watch?v=PEnFFiQe1pM&list=PLDV1Zeh2NRsB6SWUrDFW2RmDotAfPbeHu&index=5"
      ],
      "metadata": {
        "id": "7qYf8-3eVwMZ"
      }
    },
    {
      "cell_type": "markdown",
      "source": [
        "Lists can also be multi-dimensional."
      ],
      "metadata": {
        "id": "lHcyDKP9dm8d"
      }
    },
    {
      "cell_type": "code",
      "source": [
        "list2d = [[0, 1, 2], [3, 4, 5]]\n",
        "list3d = [[[0, 1, 2], [3, 4, 5]], [[6, 7, 8], [9, 10, 11]]]"
      ],
      "metadata": {
        "id": "qg-0um5ZdrdL"
      },
      "execution_count": null,
      "outputs": []
    },
    {
      "cell_type": "markdown",
      "source": [
        "Indexing multi-dimensional lists is conceptually the same as indexing a simple 1D list."
      ],
      "metadata": {
        "id": "Mb6yTTdAeD2Z"
      }
    },
    {
      "cell_type": "code",
      "source": [
        "print(list2d[0][1])\n",
        "print(list3d[1][0][1])"
      ],
      "metadata": {
        "colab": {
          "base_uri": "https://localhost:8080/"
        },
        "id": "GTtcFOvseCpN",
        "outputId": "6bc001df-0b77-411c-f556-c69eaf0ee63e"
      },
      "execution_count": null,
      "outputs": [
        {
          "output_type": "stream",
          "name": "stdout",
          "text": [
            "1\n",
            "7\n"
          ]
        }
      ]
    },
    {
      "cell_type": "markdown",
      "source": [
        "# For-loops\n",
        "\n",
        "For-loops are defined using the ```for``` keyword. They require a sequence to loop through and a properly indented body that defines what to do at each step."
      ],
      "metadata": {
        "id": "4bRFeXVsQX18"
      }
    },
    {
      "cell_type": "code",
      "source": [
        "for i in range(10):\n",
        "    print(i)"
      ],
      "metadata": {
        "colab": {
          "base_uri": "https://localhost:8080/"
        },
        "id": "GjXuzu3mSImF",
        "outputId": "eadc4454-f716-4f08-8b87-2d549a0b3c73"
      },
      "execution_count": null,
      "outputs": [
        {
          "output_type": "stream",
          "name": "stdout",
          "text": [
            "0\n",
            "1\n",
            "2\n",
            "3\n",
            "4\n",
            "5\n",
            "6\n",
            "7\n",
            "8\n",
            "9\n"
          ]
        }
      ]
    },
    {
      "cell_type": "markdown",
      "source": [
        "```range()``` is another built-in function that takes an integer as its argument and returns an immutable sequence type. ```i``` is a variable that holds a different value at each step of the for-loop."
      ],
      "metadata": {
        "id": "NhgKXP5dSLw-"
      }
    },
    {
      "cell_type": "markdown",
      "source": [
        "We saw above that when we use the ```print()``` function to display the contents of a list, it will print all of them together on the same line. What if we intend a different behavior? What if we want the contents printed one-by-one?"
      ],
      "metadata": {
        "id": "98ngyPMiQ4Bt"
      }
    },
    {
      "cell_type": "code",
      "source": [
        "print(\"Start looping...\")\n",
        "\n",
        "for word in words:\n",
        "    print(\"----------\")\n",
        "    print(word)\n",
        "    print(\"----------\")\n",
        "\n",
        "print(\"...stop looping!\")"
      ],
      "metadata": {
        "colab": {
          "base_uri": "https://localhost:8080/"
        },
        "id": "WI2NSZq9Q50D",
        "outputId": "33d556bf-6c55-45e7-9378-2c9be32947fb"
      },
      "execution_count": null,
      "outputs": [
        {
          "output_type": "stream",
          "name": "stdout",
          "text": [
            "Start looping...\n",
            "----------\n",
            "Denmark\n",
            "----------\n",
            "----------\n",
            "Copenhagen\n",
            "----------\n",
            "----------\n",
            "hospital\n",
            "----------\n",
            "...stop looping!\n"
          ]
        }
      ]
    },
    {
      "cell_type": "markdown",
      "source": [
        "Indentation in Python matters! Notice that the lines that are indented after we define the for-loop are executed at each itterative step. On the other hand, the non-indented lines before and after the for-loop definitation are executed only once."
      ],
      "metadata": {
        "id": "tP-PjXEET0qW"
      }
    },
    {
      "cell_type": "markdown",
      "source": [
        "# The bool type and the if-statement\n",
        "\n",
        "Logic is essential for programming as it allows us evaluate wether a given statement is true or false. ```True``` and ```False``` are values of type ```bool```, named after the English mathematatician George Boole, a pioneer in the field of logic. The standard operations of  ```and```, ```or```, and ```not``` can be used to manipulate the boolean values.\n",
        "\n"
      ],
      "metadata": {
        "id": "e12F4zKdUiC2"
      }
    },
    {
      "cell_type": "code",
      "source": [
        "isTrue  = True\n",
        "isFalse = False"
      ],
      "metadata": {
        "id": "qcIwUSUFVMkr"
      },
      "execution_count": null,
      "outputs": []
    },
    {
      "cell_type": "code",
      "source": [
        "print(isTrue and isTrue)\n",
        "print(isTrue and isFalse)\n",
        "print(isFalse and isTrue)\n",
        "print(isFalse and isFalse)"
      ],
      "metadata": {
        "colab": {
          "base_uri": "https://localhost:8080/"
        },
        "id": "bwWjoxSeXfcz",
        "outputId": "d90293c3-bbf4-4546-dc8d-376950ab4a8b"
      },
      "execution_count": null,
      "outputs": [
        {
          "output_type": "stream",
          "name": "stdout",
          "text": [
            "True\n",
            "False\n",
            "False\n",
            "False\n"
          ]
        }
      ]
    },
    {
      "cell_type": "code",
      "source": [
        "print(isTrue or isTrue)\n",
        "print(isTrue or isFalse)\n",
        "print(isFalse or isTrue)\n",
        "print(isFalse or isFalse)"
      ],
      "metadata": {
        "colab": {
          "base_uri": "https://localhost:8080/"
        },
        "id": "6Hbu8DyWXpf8",
        "outputId": "56b63258-bbd7-413f-8b9d-b9473544ace4"
      },
      "execution_count": null,
      "outputs": [
        {
          "output_type": "stream",
          "name": "stdout",
          "text": [
            "True\n",
            "True\n",
            "True\n",
            "False\n"
          ]
        }
      ]
    },
    {
      "cell_type": "code",
      "source": [
        "print(not isTrue)\n",
        "print(not isFalse)"
      ],
      "metadata": {
        "colab": {
          "base_uri": "https://localhost:8080/"
        },
        "id": "CCxOTlRwXsrj",
        "outputId": "10cdaf08-616d-4bc8-9488-6f2cb213bff1"
      },
      "execution_count": null,
      "outputs": [
        {
          "output_type": "stream",
          "name": "stdout",
          "text": [
            "False\n",
            "True\n"
          ]
        }
      ]
    },
    {
      "cell_type": "markdown",
      "source": [
        "We can check if two boolean values are the same by using the equality operator ```==```.\n",
        "\n"
      ],
      "metadata": {
        "id": "eSBjB7ZMYs7L"
      }
    },
    {
      "cell_type": "code",
      "source": [
        "print(isTrue == isTrue)\n",
        "print(isTrue == isFalse)\n",
        "print(isFalse == isTrue)\n",
        "print(isFalse == isFalse)"
      ],
      "metadata": {
        "colab": {
          "base_uri": "https://localhost:8080/"
        },
        "id": "OHCsNfLLY3SN",
        "outputId": "2645e09c-0264-4e22-fd63-a4bfc6caad55"
      },
      "execution_count": null,
      "outputs": [
        {
          "output_type": "stream",
          "name": "stdout",
          "text": [
            "True\n",
            "False\n",
            "False\n",
            "True\n"
          ]
        }
      ]
    },
    {
      "cell_type": "markdown",
      "source": [
        "The reason why we care about these values and operations is because they allow us to construct one of the corner stones of programming - the *if-statement*. The importance of the if-statement lays in that it allows us to control the flow of programs based on certain conditions."
      ],
      "metadata": {
        "id": "C2gzuZSUX0qj"
      }
    },
    {
      "cell_type": "code",
      "source": [
        "if isTrue == True:\n",
        "    print(\"This is true!\")"
      ],
      "metadata": {
        "colab": {
          "base_uri": "https://localhost:8080/"
        },
        "id": "72qpvluoYjig",
        "outputId": "a11304ce-a1f9-465f-e296-6c06483cf1ca"
      },
      "execution_count": null,
      "outputs": [
        {
          "output_type": "stream",
          "name": "stdout",
          "text": [
            "This is true!\n"
          ]
        }
      ]
    },
    {
      "cell_type": "code",
      "source": [
        "if isFalse == True:\n",
        "    print(\"This will not print!\")"
      ],
      "metadata": {
        "id": "I8x6gMgDZEOq"
      },
      "execution_count": null,
      "outputs": []
    },
    {
      "cell_type": "markdown",
      "source": [
        "# Worked example\n",
        "\n",
        "Now lets put everything we have learned so far into a worked example. For this purpose, we will have a list of integer values from 0 to 9. We will loop through the list and check if the current value ```i``` is even. If yes, then we will simply print out \"Even.\". Otherwise, we will print out \"Odd.\"\n",
        "\n"
      ],
      "metadata": {
        "id": "UUlbCVttmhm5"
      }
    },
    {
      "cell_type": "code",
      "source": [
        "nums = [0, 1, 2, 3, 4, 5, 6, 7, 8, 9, \"10\"]"
      ],
      "metadata": {
        "id": "bIqdQ-5qqwdU"
      },
      "execution_count": null,
      "outputs": []
    },
    {
      "cell_type": "code",
      "source": [
        "for n in nums:\n",
        "    if type(n) is int:\n",
        "        if n % 2 == 0:\n",
        "            print(\"Even.\")\n",
        "        elif n % 2 == 1:\n",
        "            print(\"Odd.\")\n",
        "    else:\n",
        "        print(\"n must be of type integer.\")"
      ],
      "metadata": {
        "colab": {
          "base_uri": "https://localhost:8080/"
        },
        "id": "7rsQar8_shFe",
        "outputId": "2d45a029-01b9-4716-e012-7db9a687b9f5"
      },
      "execution_count": null,
      "outputs": [
        {
          "output_type": "stream",
          "name": "stdout",
          "text": [
            "Even.\n",
            "Odd.\n",
            "Even.\n",
            "Odd.\n",
            "Even.\n",
            "Odd.\n",
            "Even.\n",
            "Odd.\n",
            "Even.\n",
            "Odd.\n",
            "n must be of type integer.\n"
          ]
        }
      ]
    },
    {
      "cell_type": "markdown",
      "source": [
        "# Exercise 2\n",
        "\n",
        "You are a given two Python lists of x values (```xs```) and y values (```ys```). Your goal is to produce a Python list of z values (```zs```), where each z is the element-wise sum of ```xs``` and ```ys```. In theory, this is what the code below does. In practice, there are 3 mistakes that make the program incompatible. Copy the code in code in your own notebook and try to find all 3 mistakes. The resulting print should look like ```[5, 7, 9, 11, 13]```."
      ],
      "metadata": {
        "id": "rIYIxUosGEcj"
      }
    },
    {
      "cell_type": "code",
      "source": [
        "xs = [0, 1, 2, 3, 4]\n",
        "ys = [5, 6, 7, 8, 9]\n",
        "zs = []\n",
        "\n",
        "for j in range(0, 5):\n",
        "    x = xs[i]\n",
        "    y = ys[i]\n",
        "    z == x + y\n",
        "zs.append(z)\n",
        "\n",
        "print(zs)"
      ],
      "metadata": {
        "colab": {
          "base_uri": "https://localhost:8080/"
        },
        "id": "1jQsJzDvFA94",
        "outputId": "5bcbba17-0994-474a-8bc3-d3e9ad8cf010"
      },
      "execution_count": null,
      "outputs": [
        {
          "output_type": "stream",
          "name": "stdout",
          "text": [
            "[5, 7, 9, 11, 13]\n"
          ]
        }
      ]
    },
    {
      "cell_type": "markdown",
      "source": [
        "# Functions\n",
        "\n",
        "Finally, lets take a look at functions as a programming concept. In simple terms, a Python function is a named piece of code designed to carry out a specific task. Generally speaking, programmers are encoureged to keep functions simple and dedicated, i.e. a function should perform one task and one task only. Functions are an amazing way to improve readability as they encourage code reusability."
      ],
      "metadata": {
        "id": "YS6vt13pzMTB"
      }
    },
    {
      "cell_type": "code",
      "source": [
        "def isEven(n):\n",
        "    \"\"\"\n",
        "    This is a docstring.\n",
        "\n",
        "    Determine whether a given number is even.\n",
        "\n",
        "    Arguments:\n",
        "    n (int): The number to check.\n",
        "\n",
        "    Returns:\n",
        "    bool or None: True if the number is even, False if it is odd,\n",
        "                  and None if the input is not an integer.\n",
        "    \"\"\"\n",
        "    isEven = None\n",
        "\n",
        "    if type(n) is int:\n",
        "        if n % 2 == 0:\n",
        "            isEven = True\n",
        "        else:\n",
        "            isEven = False\n",
        "    else:\n",
        "        isEven = None\n",
        "\n",
        "    return isEven\n"
      ],
      "metadata": {
        "id": "8dxXVb0v0N9-"
      },
      "execution_count": null,
      "outputs": []
    },
    {
      "cell_type": "code",
      "source": [
        "for n in nums:\n",
        "    print(isEven(n))"
      ],
      "metadata": {
        "id": "2Wy2Qsex1KSn"
      },
      "execution_count": null,
      "outputs": []
    },
    {
      "cell_type": "markdown",
      "source": [
        "# Recursion\n",
        "\n",
        "Recursive function is one that calls itself until a base case is met. The base case serves as termination and is necessary for the function to cease to run."
      ],
      "metadata": {
        "id": "_7XsA5X118UI"
      }
    },
    {
      "cell_type": "code",
      "source": [
        "def fibonacci(n):\n",
        "    \"\"\"\n",
        "    Recursively generate Fibonacci numbers up to n.\n",
        "\n",
        "    Arguments:\n",
        "        n (int): The number of Fibonacci numbers to generate.\n",
        "\n",
        "    Returns:\n",
        "        list: A list of Fibonacci numbers.\n",
        "    \"\"\"\n",
        "    # Base cases\n",
        "    if n <= 0:\n",
        "        return []\n",
        "    elif n == 1:\n",
        "        return [0]\n",
        "    elif n == 2:\n",
        "        return [0, 1]\n",
        "\n",
        "    # Recursive case\n",
        "    fib_sequence = fibonacci(n - 1)\n",
        "    fib_sequence.append(fib_sequence[-1] + fib_sequence[-2])\n",
        "\n",
        "    return fib_sequence"
      ],
      "metadata": {
        "id": "rFeKXvA_2dj9"
      },
      "execution_count": 1,
      "outputs": []
    },
    {
      "cell_type": "code",
      "source": [
        "print(fibonacci(100))"
      ],
      "metadata": {
        "colab": {
          "base_uri": "https://localhost:8080/"
        },
        "id": "s-LnrJhf3GRz",
        "outputId": "bafca11c-5d3f-4496-de6b-4fc713ba5f40"
      },
      "execution_count": 6,
      "outputs": [
        {
          "output_type": "stream",
          "name": "stdout",
          "text": [
            "[0, 1, 1, 2, 3, 5, 8, 13, 21, 34, 55, 89, 144, 233, 377, 610, 987, 1597, 2584, 4181, 6765, 10946, 17711, 28657, 46368, 75025, 121393, 196418, 317811, 514229, 832040, 1346269, 2178309, 3524578, 5702887, 9227465, 14930352, 24157817, 39088169, 63245986, 102334155, 165580141, 267914296, 433494437, 701408733, 1134903170, 1836311903, 2971215073, 4807526976, 7778742049, 12586269025, 20365011074, 32951280099, 53316291173, 86267571272, 139583862445, 225851433717, 365435296162, 591286729879, 956722026041, 1548008755920, 2504730781961, 4052739537881, 6557470319842, 10610209857723, 17167680177565, 27777890035288, 44945570212853, 72723460248141, 117669030460994, 190392490709135, 308061521170129, 498454011879264, 806515533049393, 1304969544928657, 2111485077978050, 3416454622906707, 5527939700884757, 8944394323791464, 14472334024676221, 23416728348467685, 37889062373143906, 61305790721611591, 99194853094755497, 160500643816367088, 259695496911122585, 420196140727489673, 679891637638612258, 1100087778366101931, 1779979416004714189, 2880067194370816120, 4660046610375530309, 7540113804746346429, 12200160415121876738, 19740274219868223167, 31940434634990099905, 51680708854858323072, 83621143489848422977, 135301852344706746049, 218922995834555169026]\n"
          ]
        }
      ]
    },
    {
      "cell_type": "markdown",
      "source": [
        "# Scientific computing with NumPy\n",
        "\n",
        "NumPy (https://numpy.org/) is a core library for scientific computing in Python. It is essential for other commonly used libraries such as Pandas, Scikit-Learn, and SciPy among many others. NumPy owes its popularity to its efficient implementation of n-dimensional arrays that allows for seamless linear algebra operations."
      ],
      "metadata": {
        "id": "yehCAItXwnlZ"
      }
    },
    {
      "cell_type": "code",
      "source": [
        "import numpy as np"
      ],
      "metadata": {
        "id": "ml6uKIX2AOj8"
      },
      "execution_count": null,
      "outputs": []
    },
    {
      "cell_type": "code",
      "source": [
        "array1d = np.array([0, 1, 2])\n",
        "array2d = np.array([[0, 1, 2],\n",
        "                    [3, 4, 5],\n",
        "                    [6, 7, 8]])\n",
        "array3d = np.array([[[0, 1, 2],\n",
        "                    [3, 4, 5],\n",
        "                    [6, 7, 8]],\n",
        "                    [[0, 1, 2],\n",
        "                    [3, 4, 5],\n",
        "                    [6, 7, 8]],\n",
        "                    [[0, 1, 2],\n",
        "                    [3, 4, 5],\n",
        "                    [6, 7, 8]]])"
      ],
      "metadata": {
        "id": "eb881xg0AHcl"
      },
      "execution_count": null,
      "outputs": []
    },
    {
      "cell_type": "code",
      "source": [
        "print(array1d)\n",
        "print(\"----------\")\n",
        "print(array2d)\n",
        "print(\"----------\")\n",
        "print(array3d)"
      ],
      "metadata": {
        "id": "e-PmtJK7ASwZ"
      },
      "execution_count": null,
      "outputs": []
    },
    {
      "cell_type": "markdown",
      "source": [
        "# Indexing and slicing a NumPy array\n",
        "\n",
        "Indexing and slicing NumPy arrays is identical to indexing and slicing Python lists."
      ],
      "metadata": {
        "id": "Xdb1BhLFAZAt"
      }
    },
    {
      "cell_type": "code",
      "source": [
        "print(array1d[0])\n",
        "print(\"----------\")\n",
        "print(array2d[1][2])\n",
        "print(\"----------\")\n",
        "print(array3d[2][1][0])"
      ],
      "metadata": {
        "id": "fsjVHu_WP0Pf"
      },
      "execution_count": null,
      "outputs": []
    },
    {
      "cell_type": "code",
      "source": [
        "print(array1d[0:2])\n",
        "print(\"----------\")\n",
        "print(array2d[0:2])\n",
        "print(\"----------\")\n",
        "print(array3d[1][0:2])"
      ],
      "metadata": {
        "id": "r2Hx8Pa1igR_"
      },
      "execution_count": null,
      "outputs": []
    },
    {
      "cell_type": "markdown",
      "source": [
        "# NumPy array properties\n",
        "\n",
        "Now we will take a closer look at some useful NumPy array properties. We will focus on ```array2d```, as it is complex and interesting, yet intuituive to work with.\n",
        "\n"
      ],
      "metadata": {
        "id": "dj1_1pO7kslq"
      }
    },
    {
      "cell_type": "code",
      "source": [
        "print(\"The shape of array3d is: \", array2d.shape)\n",
        "print(\"The dimensionality of array3d is: \", array2d.ndim)\n",
        "print(\"The size of array3d is: \", array2d.size)\n",
        "print(\"The type of data stored in array3d is: \", array2d.dtype)"
      ],
      "metadata": {
        "id": "nPKeyUnCnKCn"
      },
      "execution_count": null,
      "outputs": []
    },
    {
      "cell_type": "markdown",
      "source": [
        "We can manipulate the shape of the array through the ```.shape()``` function."
      ],
      "metadata": {
        "id": "IUyeKphFpTCD"
      }
    },
    {
      "cell_type": "code",
      "source": [
        "array2d_reshaped = np.reshape(array2d, (1, 9))"
      ],
      "metadata": {
        "id": "MoPdnB89pdGQ"
      },
      "execution_count": null,
      "outputs": []
    },
    {
      "cell_type": "code",
      "source": [
        "print(\"The shape of array2d_reshaped is: \", array2d_reshaped.shape)\n",
        "print(\"The dimensionality of array2d_reshaped is: \", array2d_reshaped.ndim)\n",
        "print(\"The size of array2d_reshaped is: \", array2d_reshaped.size)\n",
        "print(\"The type of data stored in array2d_reshaped is: \", array2d_reshaped.dtype)"
      ],
      "metadata": {
        "id": "606iFdKWpsMk"
      },
      "execution_count": null,
      "outputs": []
    },
    {
      "cell_type": "markdown",
      "source": [
        "It is perhaps a bit counter-intuitive that the reshaped array is still 2D. Lets see why this is the case."
      ],
      "metadata": {
        "id": "wqMwane0qHyi"
      }
    },
    {
      "cell_type": "code",
      "source": [
        "print(array2d_reshaped)"
      ],
      "metadata": {
        "id": "EkzIdAqIp1jY"
      },
      "execution_count": null,
      "outputs": []
    },
    {
      "cell_type": "markdown",
      "source": [
        "What if we want it to be 1D?"
      ],
      "metadata": {
        "id": "0IKJHGk_qRVA"
      }
    },
    {
      "cell_type": "code",
      "source": [
        "array2d_flattened = array2d.flatten()"
      ],
      "metadata": {
        "id": "99BAOfM1p3vQ"
      },
      "execution_count": null,
      "outputs": []
    },
    {
      "cell_type": "code",
      "source": [
        "print(\"The shape of array2d_flattened is: \", array2d_flattened.shape)\n",
        "print(\"The dimensionality of array2d_flattened is: \", array2d_flattened.ndim)\n",
        "print(\"The size of array2d_flattened is: \", array2d_flattened.size)\n",
        "print(\"The type of data stored in array2d_flattened is: \", array2d_flattened.dtype)"
      ],
      "metadata": {
        "id": "cz-D8I38qG03"
      },
      "execution_count": null,
      "outputs": []
    },
    {
      "cell_type": "markdown",
      "source": [
        "How are ```array2d_reshaped``` and ```array2d_flattened``` different?\n",
        "\n"
      ],
      "metadata": {
        "id": "eflJRwpmrvnb"
      }
    },
    {
      "cell_type": "code",
      "source": [
        "print(\"The first element of array2d_reshaped: \", array2d_reshaped[0])\n",
        "print(\"The first element of array2d_flattened: \", array2d_flattened[0])"
      ],
      "metadata": {
        "id": "gzHLcbqGr4VS"
      },
      "execution_count": null,
      "outputs": []
    },
    {
      "cell_type": "markdown",
      "source": [
        "# Element-wise operations in NumPy\n",
        "\n",
        "NumPy allows for the same algebraic operations as Python does. We shall take a look at those by the means of two 2D arrays."
      ],
      "metadata": {
        "id": "dbGxxunMukXo"
      }
    },
    {
      "cell_type": "code",
      "source": [
        "m1 = np.array([[0, 1],\n",
        "               [2, 3]])\n",
        "\n",
        "m2 = np.array([[4, 5],\n",
        "               [6, 7]])"
      ],
      "metadata": {
        "id": "nhboUVV0u1GL"
      },
      "execution_count": null,
      "outputs": []
    },
    {
      "cell_type": "code",
      "source": [
        "m3_add = m1 + m2\n",
        "m3_sub = m2 - m1\n",
        "m3_mul = m1 * m2\n",
        "m3_div = m3_mul / m2\n",
        "m3_pow = m1 ** 2"
      ],
      "metadata": {
        "id": "lv4D5fVKu_Cp"
      },
      "execution_count": null,
      "outputs": []
    },
    {
      "cell_type": "code",
      "source": [
        "print(m3_add)"
      ],
      "metadata": {
        "id": "EBGGRS6RvQZa"
      },
      "execution_count": null,
      "outputs": []
    },
    {
      "cell_type": "code",
      "source": [
        "print(m3_sub)"
      ],
      "metadata": {
        "id": "aLLgFZExvXvM"
      },
      "execution_count": null,
      "outputs": []
    },
    {
      "cell_type": "code",
      "source": [
        "print(m3_mul)"
      ],
      "metadata": {
        "id": "wyJp0aaNvYBG"
      },
      "execution_count": null,
      "outputs": []
    },
    {
      "cell_type": "code",
      "source": [
        "print(m3_div)"
      ],
      "metadata": {
        "id": "rJvBz2aXvYa6"
      },
      "execution_count": null,
      "outputs": []
    },
    {
      "cell_type": "code",
      "source": [
        "print(m3_pow)"
      ],
      "metadata": {
        "id": "OatMaCAqvY4w"
      },
      "execution_count": null,
      "outputs": []
    },
    {
      "cell_type": "markdown",
      "source": [
        "NumPy also offers a range of useful aggregation functions."
      ],
      "metadata": {
        "id": "GUcSoncpvtwU"
      }
    },
    {
      "cell_type": "code",
      "source": [
        "print(\"The sum of m1: \", np.sum(m1))\n",
        "print(\"The mean of m1: \", np.mean(m1))\n",
        "print(\"The std of m1: \", np.std(m1))\n",
        "print(\"The min of m1: \", np.min(m1))\n",
        "print(\"The max of m1: \", np.max(m1))"
      ],
      "metadata": {
        "id": "hdaksbSLvxvJ"
      },
      "execution_count": null,
      "outputs": []
    },
    {
      "cell_type": "markdown",
      "source": [
        "# Working with matrices\n",
        "\n",
        "Last but not least, NumPy allows for efficient matrix operations, such as matrix transposition."
      ],
      "metadata": {
        "id": "ROzTgGqbwcA3"
      }
    },
    {
      "cell_type": "code",
      "source": [
        "m1_transpose = m1.T"
      ],
      "metadata": {
        "id": "5XqmWpynw5i9"
      },
      "execution_count": null,
      "outputs": []
    },
    {
      "cell_type": "code",
      "source": [
        "print(m1_transpose)"
      ],
      "metadata": {
        "id": "sMXpRPgSw9x5"
      },
      "execution_count": null,
      "outputs": []
    },
    {
      "cell_type": "markdown",
      "source": [
        "Matrix multiplication."
      ],
      "metadata": {
        "id": "zJFbRxrAxK0p"
      }
    },
    {
      "cell_type": "code",
      "source": [
        "mat_mul = m1 @ m2\n",
        "mat_dot = np.dot(m1, m2)"
      ],
      "metadata": {
        "id": "3hMW2nyuxDtK"
      },
      "execution_count": null,
      "outputs": []
    },
    {
      "cell_type": "code",
      "source": [
        "print(mat_mul)\n",
        "print(\"----------\")\n",
        "print(mat_dot)"
      ],
      "metadata": {
        "id": "y7IRP9sWxTBn"
      },
      "execution_count": null,
      "outputs": []
    },
    {
      "cell_type": "markdown",
      "source": [
        "Matrix inversion."
      ],
      "metadata": {
        "id": "OExxxsjExXbM"
      }
    },
    {
      "cell_type": "code",
      "source": [
        "m1_inv = np.linalg.inv(m1)"
      ],
      "metadata": {
        "id": "qEpeiiDfxdqv"
      },
      "execution_count": null,
      "outputs": []
    },
    {
      "cell_type": "code",
      "source": [
        "print(m1_inv)"
      ],
      "metadata": {
        "id": "zj-ueSI9xg08"
      },
      "execution_count": null,
      "outputs": []
    },
    {
      "cell_type": "markdown",
      "source": [
        "Determinant calculation."
      ],
      "metadata": {
        "id": "HmVt_DMDxi2F"
      }
    },
    {
      "cell_type": "code",
      "source": [
        "m2_det = np.linalg.det(m2)"
      ],
      "metadata": {
        "id": "_faLNJOsxlI0"
      },
      "execution_count": null,
      "outputs": []
    },
    {
      "cell_type": "code",
      "source": [
        "print(m2_det)"
      ],
      "metadata": {
        "id": "wQvQ5aLKyWK8"
      },
      "execution_count": null,
      "outputs": []
    },
    {
      "cell_type": "markdown",
      "source": [
        "Ocasionally, we know the size and dimensionality of the matrix we wish to arrive at, but we are yet to figure out its values. In those cases, computer scientists initialize a dummy matrix that contains the same value everywhere. NumPy offers functionality to do that for us."
      ],
      "metadata": {
        "id": "0Uvqo91VzXZk"
      }
    },
    {
      "cell_type": "code",
      "source": [
        "array_zeros = np.zeros((3,3))\n",
        "array_ones  = np.ones((3,3))"
      ],
      "metadata": {
        "id": "9Kg-uLLHztPI"
      },
      "execution_count": null,
      "outputs": []
    },
    {
      "cell_type": "code",
      "source": [
        "print(array_zeros)\n",
        "print(\"----------\")\n",
        "print(array_ones)"
      ],
      "metadata": {
        "id": "2BwH51xMz5Yd"
      },
      "execution_count": null,
      "outputs": []
    },
    {
      "cell_type": "markdown",
      "source": [
        "Such occasion might be if we wanted to implement one of the element-wise operations from scratch. We know that the final matrix should have 4 elements and be 2 $\\times$ 2 but we do not know the values yet."
      ],
      "metadata": {
        "id": "S9IrvRVk1fjj"
      }
    },
    {
      "cell_type": "code",
      "source": [
        "m3 = np.zeros((2,2))\n",
        "\n",
        "for i in range(m1.shape[0]):\n",
        "    for j in range(m1.shape[1]):\n",
        "        m3[i][j] = m1[i][j] * m2[i][j]\n",
        "\n",
        "print(m3)"
      ],
      "metadata": {
        "id": "g77xHXt11fEe"
      },
      "execution_count": null,
      "outputs": []
    },
    {
      "cell_type": "markdown",
      "source": [
        "# Why should I care about NumPy arrays when we already have Python lists?\n",
        "\n",
        "Because NumPy arrays are faster. Lets look at a simple experiment. We will start by importing the ```time``` library. Note that all the details about ```time``` are not important for this course.\n",
        "\n"
      ],
      "metadata": {
        "id": "wnwmIyWYXRV4"
      }
    },
    {
      "cell_type": "code",
      "source": [
        "import time"
      ],
      "metadata": {
        "id": "aP_2iDK7ZRns"
      },
      "execution_count": null,
      "outputs": []
    },
    {
      "cell_type": "markdown",
      "source": [
        "We will then define a Python list and a NumPy array of the same shape (1D) and size."
      ],
      "metadata": {
        "id": "NOIZI2OxZTmR"
      }
    },
    {
      "cell_type": "code",
      "source": [
        "size     = 10**5\n",
        "py_list  = list(range(size))\n",
        "np_array = np.arange(size)"
      ],
      "metadata": {
        "id": "m6wkkS2wZb7q"
      },
      "execution_count": null,
      "outputs": []
    },
    {
      "cell_type": "markdown",
      "source": [
        "We will then record the current time at executing the code cell, iterate over the Python list and multiply each of its elements by 2, and finally, get the total runtime by subtracting the starting time from the time of finishing the operation."
      ],
      "metadata": {
        "id": "zbRkrnZBZkwD"
      }
    },
    {
      "cell_type": "code",
      "source": [
        "start_time     = time.time()\n",
        "py_list_result = [x * 2 for x in py_list] # This is a list comperhenssion.\n",
        "py_list_time   = time.time() - start_time"
      ],
      "metadata": {
        "id": "6-TYo0fZaeCi"
      },
      "execution_count": null,
      "outputs": []
    },
    {
      "cell_type": "markdown",
      "source": [
        "Do the same for the NumPy array."
      ],
      "metadata": {
        "id": "OBCc5SLYaeat"
      }
    },
    {
      "cell_type": "code",
      "source": [
        "start_time      = time.time()\n",
        "np_array_result = np_array * 2\n",
        "np_time         = time.time() - start_time"
      ],
      "metadata": {
        "id": "5xdp94F5aicQ"
      },
      "execution_count": null,
      "outputs": []
    },
    {
      "cell_type": "markdown",
      "source": [
        "Simply compare the results."
      ],
      "metadata": {
        "id": "2hPemfHoait8"
      }
    },
    {
      "cell_type": "code",
      "source": [
        "print(f\"Python list time: {py_list_time:.6f} seconds\")\n",
        "print(f\"NumPy array time: {np_time:.6f} seconds\")\n",
        "print(f\"Speedup: {py_list_time / np_time:.2f}x faster with NumPy\")"
      ],
      "metadata": {
        "id": "D5sY5aoaalpM"
      },
      "execution_count": null,
      "outputs": []
    }
  ]
}