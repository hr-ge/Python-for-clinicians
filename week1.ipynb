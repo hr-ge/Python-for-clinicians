{
  "nbformat": 4,
  "nbformat_minor": 0,
  "metadata": {
    "colab": {
      "provenance": [],
      "authorship_tag": "ABX9TyMKLvByGvR3bdWFAKDztN7F",
      "include_colab_link": true
    },
    "kernelspec": {
      "name": "python3",
      "display_name": "Python 3"
    },
    "language_info": {
      "name": "python"
    }
  },
  "cells": [
    {
      "cell_type": "markdown",
      "metadata": {
        "id": "view-in-github",
        "colab_type": "text"
      },
      "source": [
        "<a href=\"https://colab.research.google.com/github/hr-ge/Python-for-clinicians/blob/main/week1.ipynb\" target=\"_parent\"><img src=\"https://colab.research.google.com/assets/colab-badge.svg\" alt=\"Open In Colab\"/></a>"
      ]
    },
    {
      "cell_type": "markdown",
      "source": [
        "# Week 1: \"Hello, World!\", NumPy arrays, and more\n",
        "\n",
        "The purpose of this notebook is to introduce the reader to basic programming concepts through Python (https://www.python.org/), a high-level, general-purpose programming language. We will learn how to do basic algebra using Python and explore fundamental building blocks of programs such as variables, loops, and if-statements. We will also explore one of Python's most important libraries for data science - NumPy (https://numpy.org/)."
      ],
      "metadata": {
        "id": "pDNh97XbFH2z"
      }
    },
    {
      "cell_type": "markdown",
      "source": [
        "# Python as a calculator\n"
      ],
      "metadata": {
        "id": "I94pjqv-GpMo"
      }
    },
    {
      "cell_type": "code",
      "execution_count": 1,
      "metadata": {
        "colab": {
          "base_uri": "https://localhost:8080/"
        },
        "id": "zdxueukhDDTw",
        "outputId": "6a517235-db9e-4ccc-fe82-1f34adaf1fdf"
      },
      "outputs": [
        {
          "output_type": "execute_result",
          "data": {
            "text/plain": [
              "3"
            ]
          },
          "metadata": {},
          "execution_count": 1
        }
      ],
      "source": [
        "2 + 1"
      ]
    },
    {
      "cell_type": "code",
      "source": [
        "2 - 1"
      ],
      "metadata": {
        "colab": {
          "base_uri": "https://localhost:8080/"
        },
        "id": "QodvKevcHXtx",
        "outputId": "1001807b-2ab1-41a5-e857-8b2db5cbb0b6"
      },
      "execution_count": 2,
      "outputs": [
        {
          "output_type": "execute_result",
          "data": {
            "text/plain": [
              "1"
            ]
          },
          "metadata": {},
          "execution_count": 2
        }
      ]
    },
    {
      "cell_type": "code",
      "source": [
        "3 * 2"
      ],
      "metadata": {
        "colab": {
          "base_uri": "https://localhost:8080/"
        },
        "id": "3XojMwkTHbC1",
        "outputId": "84ac35b3-b3cd-46ba-b97f-976bef8ed812"
      },
      "execution_count": 3,
      "outputs": [
        {
          "output_type": "execute_result",
          "data": {
            "text/plain": [
              "6"
            ]
          },
          "metadata": {},
          "execution_count": 3
        }
      ]
    },
    {
      "cell_type": "code",
      "source": [
        "4 / 2"
      ],
      "metadata": {
        "colab": {
          "base_uri": "https://localhost:8080/"
        },
        "id": "YI9FWI-THdlx",
        "outputId": "91aa2f5a-6b91-4497-d514-1994556bfab2"
      },
      "execution_count": 4,
      "outputs": [
        {
          "output_type": "execute_result",
          "data": {
            "text/plain": [
              "2.0"
            ]
          },
          "metadata": {},
          "execution_count": 4
        }
      ]
    },
    {
      "cell_type": "code",
      "source": [
        "5 % 2 # This is the modulus operator and this is a comment."
      ],
      "metadata": {
        "colab": {
          "base_uri": "https://localhost:8080/"
        },
        "id": "0iDIeFrPHgqP",
        "outputId": "b2267b93-f823-4d4b-cdc4-0d51eb6fb8f1"
      },
      "execution_count": 5,
      "outputs": [
        {
          "output_type": "execute_result",
          "data": {
            "text/plain": [
              "1"
            ]
          },
          "metadata": {},
          "execution_count": 5
        }
      ]
    },
    {
      "cell_type": "code",
      "source": [
        "4 ** 2"
      ],
      "metadata": {
        "colab": {
          "base_uri": "https://localhost:8080/"
        },
        "id": "hcSV5T7rHssG",
        "outputId": "ee8efc80-ba3f-4d76-dc4d-24970fb61a3d"
      },
      "execution_count": 6,
      "outputs": [
        {
          "output_type": "execute_result",
          "data": {
            "text/plain": [
              "16"
            ]
          },
          "metadata": {},
          "execution_count": 6
        }
      ]
    },
    {
      "cell_type": "markdown",
      "source": [
        "# Everyone's first program: \"Hello, World!\"\n",
        "\n",
        "It is a decades-long tradition for beginner programmers like yourself to print out a \"Hello, World!\" messege to the console as their first program. It is a simple, yet effective way of getting a taste of what programming is all about. (https://medium.com/the-software-guild-blog/the-history-of-hello-world-175440f77776)"
      ],
      "metadata": {
        "id": "hwTU5rbHH8Yk"
      }
    },
    {
      "cell_type": "code",
      "source": [
        "print(\"Hello, World!\")"
      ],
      "metadata": {
        "colab": {
          "base_uri": "https://localhost:8080/"
        },
        "id": "Dvqekq8-H-Wf",
        "outputId": "e937effc-5cfa-4de5-c824-d4bbcf401000"
      },
      "execution_count": 7,
      "outputs": [
        {
          "output_type": "stream",
          "name": "stdout",
          "text": [
            "Hello, World!\n"
          ]
        }
      ]
    },
    {
      "cell_type": "markdown",
      "source": [
        "Although simple, there is already a lot going on with this program. First of all, we have the ```print()``` function, which is one of Python's built-in functions (https://docs.python.org/3/library/functions.html). What we pass within the paranthesis of the ```print()``` function is known as an *argument*. This particular argument's *type* is what we call a *String*. Strings are essentially a *list* of *characters*, where lists and characters are types on their own.\n",
        "\n",
        "**Takeaway messege:** if you want to display a piece of text on the screen, put it within single or double quotation marks ('Hello, World!' or \"Hello, World!\") and pass it to the ```print()``` function."
      ],
      "metadata": {
        "id": "r9CbQDmlJXsp"
      }
    },
    {
      "cell_type": "markdown",
      "source": [
        "# Variables\n",
        "\n",
        "One's understanding of variables as a mathematical concept is almost fully applicable to programming. In mathematics, a variable is some symbol that referes to a value that can change. In programming, variables refer to a memory location that stores some value that can be changes. In computer science, we say that we *assign* some value to some variable. Note that ```=``` is an assignment operator and does not stand for equality!"
      ],
      "metadata": {
        "id": "x6wyy3-wLpMC"
      }
    },
    {
      "cell_type": "code",
      "source": [
        "x = 1\n",
        "y = 2\n",
        "print(\"x + y = \", x + y)\n",
        "\n",
        "x = 3\n",
        "y = 4\n",
        "print(\"x + y = \", x + y)"
      ],
      "metadata": {
        "colab": {
          "base_uri": "https://localhost:8080/"
        },
        "id": "YtV50IeJM0wZ",
        "outputId": "fcbd2e57-b8e6-49f9-8dac-13d2e23020e5"
      },
      "execution_count": 8,
      "outputs": [
        {
          "output_type": "stream",
          "name": "stdout",
          "text": [
            "x + y =  3\n",
            "x + y =  7\n"
          ]
        }
      ]
    },
    {
      "cell_type": "markdown",
      "source": [
        "Notice that Python code is executed line-by-line and that print statements can be a lot more complicated than what we previously saw."
      ],
      "metadata": {
        "id": "6VhW06R7NR9q"
      }
    },
    {
      "cell_type": "markdown",
      "source": [
        "# Lists\n",
        "\n",
        "Data structures are essential in programming, as they allow us to organize data in an efficient manner. Our first taste of data structures comes in the face of *lists*. But what is a list? Essentially, a list is a data structure that contains a *n* number of elements, for example, strings, integers, etc. Here are some important properties of Python lists:\n",
        "\n",
        "\n",
        "*   Lists are indexible on the range [0, n-1].\n",
        "*   Lists are dynamic, meaning we can grow and shrink their size be adding and removing elements.\n",
        "*   Lists are mutable, meaning we can change the value stored at any given index.\n",
        "\n"
      ],
      "metadata": {
        "id": "xUZZ16m-N6qD"
      }
    },
    {
      "cell_type": "code",
      "source": [
        "ints   = [1, 2, 3]\n",
        "floats = [1.61, 2.71, 3.14]\n",
        "words  = [\"Denmark\", \"Copenhagen\", \"hospital\"]"
      ],
      "metadata": {
        "id": "7mKMZMPAPGDF"
      },
      "execution_count": 9,
      "outputs": []
    },
    {
      "cell_type": "code",
      "source": [
        "print(ints)\n",
        "print(floats)\n",
        "print(words)"
      ],
      "metadata": {
        "colab": {
          "base_uri": "https://localhost:8080/"
        },
        "id": "cj1vEfwdQP7Z",
        "outputId": "33e8aa48-c033-4fcb-f260-4e69524b1b2a"
      },
      "execution_count": 10,
      "outputs": [
        {
          "output_type": "stream",
          "name": "stdout",
          "text": [
            "[1, 2, 3]\n",
            "[1.61, 2.71, 3.14]\n",
            "['Denmark', 'Copenhagen', 'hospital']\n"
          ]
        }
      ]
    },
    {
      "cell_type": "markdown",
      "source": [
        "What if you want a single element from a given list? This is known as indexing."
      ],
      "metadata": {
        "id": "M-PREfDSRJbG"
      }
    },
    {
      "cell_type": "code",
      "source": [
        "print(ints[0])      # Access the first element in the ints list.\n",
        "print(floats[1])    # Access the second element in the floats list.\n",
        "print(words[2])     # Access the third element in the words list."
      ],
      "metadata": {
        "colab": {
          "base_uri": "https://localhost:8080/"
        },
        "id": "3Vp7qmWcRaOg",
        "outputId": "c79aa5b7-87d0-4aa0-e66c-c5c7ac4ab23c"
      },
      "execution_count": 11,
      "outputs": [
        {
          "output_type": "stream",
          "name": "stdout",
          "text": [
            "1\n",
            "2.71\n",
            "hospital\n"
          ]
        }
      ]
    },
    {
      "cell_type": "markdown",
      "source": [
        "What if you want multiple elements from a given list that appear in sequence? This is known as slicing."
      ],
      "metadata": {
        "id": "UktgSpqEeol6"
      }
    },
    {
      "cell_type": "code",
      "source": [
        "print(ints[0:2])"
      ],
      "metadata": {
        "colab": {
          "base_uri": "https://localhost:8080/"
        },
        "id": "j2YbKbcbeytd",
        "outputId": "7a168d84-9a5c-4af5-a5d6-c215ccfddb20"
      },
      "execution_count": 12,
      "outputs": [
        {
          "output_type": "stream",
          "name": "stdout",
          "text": [
            "[1, 2]\n"
          ]
        }
      ]
    },
    {
      "cell_type": "code",
      "source": [
        "print(\"Original: \", ints)\n",
        "ints.append(4)\n",
        "print(\"Appended: \", ints)\n",
        "ints.remove(1)\n",
        "print(\"Removed:  \", ints)"
      ],
      "metadata": {
        "colab": {
          "base_uri": "https://localhost:8080/"
        },
        "id": "UyeNiau8UYjq",
        "outputId": "18a23740-f8a3-4834-a034-c49609ae8f99"
      },
      "execution_count": 13,
      "outputs": [
        {
          "output_type": "stream",
          "name": "stdout",
          "text": [
            "Original:  [1, 2, 3]\n",
            "Appended:  [1, 2, 3, 4]\n",
            "Removed:   [2, 3, 4]\n"
          ]
        }
      ]
    },
    {
      "cell_type": "code",
      "source": [
        "ints[2] = 5\n",
        "print(\"Mutated: \", ints)"
      ],
      "metadata": {
        "colab": {
          "base_uri": "https://localhost:8080/"
        },
        "id": "chZtAJvtVlTt",
        "outputId": "16437805-a6d5-467b-a64e-c1d2dfc84bb4"
      },
      "execution_count": 14,
      "outputs": [
        {
          "output_type": "stream",
          "name": "stdout",
          "text": [
            "Mutated:  [2, 3, 5]\n"
          ]
        }
      ]
    },
    {
      "cell_type": "markdown",
      "source": [
        "**Note:** in reality, Python lists are a type of dynamic array. This is not you should necessarily worry about at this stage. However, consider the following video if you would like to learn more about dynamic arrays: https://www.youtube.com/watch?v=PEnFFiQe1pM&list=PLDV1Zeh2NRsB6SWUrDFW2RmDotAfPbeHu&index=5"
      ],
      "metadata": {
        "id": "7qYf8-3eVwMZ"
      }
    },
    {
      "cell_type": "markdown",
      "source": [
        "Lists can also be multi-dimensional."
      ],
      "metadata": {
        "id": "lHcyDKP9dm8d"
      }
    },
    {
      "cell_type": "code",
      "source": [
        "list2d = [[0, 1, 2], [3, 4, 5]]\n",
        "list3d = [[[0, 1, 2], [3, 4, 5]], [[6, 7, 8], [9, 10, 11]]]"
      ],
      "metadata": {
        "id": "qg-0um5ZdrdL"
      },
      "execution_count": 15,
      "outputs": []
    },
    {
      "cell_type": "markdown",
      "source": [
        "Indexing multi-dimensional lists is conceptually the same as indexing a simple 1D list."
      ],
      "metadata": {
        "id": "Mb6yTTdAeD2Z"
      }
    },
    {
      "cell_type": "code",
      "source": [
        "print(list2d[0][1])\n",
        "print(list3d[1][0][1])"
      ],
      "metadata": {
        "colab": {
          "base_uri": "https://localhost:8080/"
        },
        "id": "GTtcFOvseCpN",
        "outputId": "d3b2ccb0-90c7-4bc9-ec10-6e2bf4e78e6a"
      },
      "execution_count": 16,
      "outputs": [
        {
          "output_type": "stream",
          "name": "stdout",
          "text": [
            "1\n",
            "7\n"
          ]
        }
      ]
    },
    {
      "cell_type": "markdown",
      "source": [
        "# For-loops\n",
        "\n",
        "For-loops are defined using the ```for``` keyword. They require a sequence to loop through and a properly indented body that defines what to do at each step."
      ],
      "metadata": {
        "id": "4bRFeXVsQX18"
      }
    },
    {
      "cell_type": "code",
      "source": [
        "for i in range(10):\n",
        "    print(i)"
      ],
      "metadata": {
        "colab": {
          "base_uri": "https://localhost:8080/"
        },
        "id": "GjXuzu3mSImF",
        "outputId": "15262ef5-386d-420d-a29b-c8c8fb3fec29"
      },
      "execution_count": 17,
      "outputs": [
        {
          "output_type": "stream",
          "name": "stdout",
          "text": [
            "0\n",
            "1\n",
            "2\n",
            "3\n",
            "4\n",
            "5\n",
            "6\n",
            "7\n",
            "8\n",
            "9\n"
          ]
        }
      ]
    },
    {
      "cell_type": "markdown",
      "source": [
        "```range()``` is another built-in function that takes an integer as its argument and returns an immutable sequence type. ```i``` is a variable that holds a different value at each step of the for-loop."
      ],
      "metadata": {
        "id": "NhgKXP5dSLw-"
      }
    },
    {
      "cell_type": "markdown",
      "source": [
        "We saw above that when we use the ```print()``` function to display the contents of a list, it will print all of them together on the same line. What if we intend a different behavior? What if we want the contents printed one-by-one?"
      ],
      "metadata": {
        "id": "98ngyPMiQ4Bt"
      }
    },
    {
      "cell_type": "code",
      "source": [
        "print(\"Start looping...\")\n",
        "\n",
        "for word in words:\n",
        "    print(\"----------\")\n",
        "    print(word)\n",
        "    print(\"----------\")\n",
        "\n",
        "print(\"...stop looping!\")"
      ],
      "metadata": {
        "colab": {
          "base_uri": "https://localhost:8080/"
        },
        "id": "WI2NSZq9Q50D",
        "outputId": "b40f8758-4683-4761-a09d-ba026d6a7ec1"
      },
      "execution_count": 18,
      "outputs": [
        {
          "output_type": "stream",
          "name": "stdout",
          "text": [
            "Start looping...\n",
            "----------\n",
            "Denmark\n",
            "----------\n",
            "----------\n",
            "Copenhagen\n",
            "----------\n",
            "----------\n",
            "hospital\n",
            "----------\n",
            "...stop looping!\n"
          ]
        }
      ]
    },
    {
      "cell_type": "markdown",
      "source": [
        "Indentation in Python matters! Notice that the lines that are indented after we define the for-loop are executed at each itterative step. On the other hand, the non-indented lines before and after the for-loop definitation are executed only once."
      ],
      "metadata": {
        "id": "tP-PjXEET0qW"
      }
    },
    {
      "cell_type": "markdown",
      "source": [
        "# The bool type and the if-statement\n",
        "\n",
        "Logic is essential for programming as it allows us evaluate wether a given statement is true or false. ```True``` and ```False``` are values of type ```bool```, named after the English mathematatician George Boole, a pioneer in the field of logic. The standard operations of  ```and```, ```or```, and ```not``` can be used to manipulate the boolean values.\n",
        "\n"
      ],
      "metadata": {
        "id": "e12F4zKdUiC2"
      }
    },
    {
      "cell_type": "code",
      "source": [
        "isTrue  = True\n",
        "isFalse = False"
      ],
      "metadata": {
        "id": "qcIwUSUFVMkr"
      },
      "execution_count": 19,
      "outputs": []
    },
    {
      "cell_type": "code",
      "source": [
        "print(isTrue and isTrue)\n",
        "print(isTrue and isFalse)\n",
        "print(isFalse and isTrue)\n",
        "print(isFalse and isFalse)"
      ],
      "metadata": {
        "colab": {
          "base_uri": "https://localhost:8080/"
        },
        "id": "bwWjoxSeXfcz",
        "outputId": "dfd57e23-3b60-4eb8-ea54-453c38a77de3"
      },
      "execution_count": 20,
      "outputs": [
        {
          "output_type": "stream",
          "name": "stdout",
          "text": [
            "True\n",
            "False\n",
            "False\n",
            "False\n"
          ]
        }
      ]
    },
    {
      "cell_type": "code",
      "source": [
        "print(isTrue or isTrue)\n",
        "print(isTrue or isFalse)\n",
        "print(isFalse or isTrue)\n",
        "print(isFalse or isFalse)"
      ],
      "metadata": {
        "colab": {
          "base_uri": "https://localhost:8080/"
        },
        "id": "6Hbu8DyWXpf8",
        "outputId": "cfb19878-ded4-447a-a475-8b0b84c5031a"
      },
      "execution_count": 21,
      "outputs": [
        {
          "output_type": "stream",
          "name": "stdout",
          "text": [
            "True\n",
            "True\n",
            "True\n",
            "False\n"
          ]
        }
      ]
    },
    {
      "cell_type": "code",
      "source": [
        "print(not isTrue)\n",
        "print(not isFalse)"
      ],
      "metadata": {
        "colab": {
          "base_uri": "https://localhost:8080/"
        },
        "id": "CCxOTlRwXsrj",
        "outputId": "daa9d030-fb12-4148-f3e4-862dc7865d9a"
      },
      "execution_count": 22,
      "outputs": [
        {
          "output_type": "stream",
          "name": "stdout",
          "text": [
            "False\n",
            "True\n"
          ]
        }
      ]
    },
    {
      "cell_type": "markdown",
      "source": [
        "We can check if two boolean values are the same by using the equality operator ```==```.\n",
        "\n"
      ],
      "metadata": {
        "id": "eSBjB7ZMYs7L"
      }
    },
    {
      "cell_type": "code",
      "source": [
        "print(isTrue == isTrue)\n",
        "print(isTrue == isFalse)\n",
        "print(isFalse == isTrue)\n",
        "print(isFalse == isFalse)"
      ],
      "metadata": {
        "colab": {
          "base_uri": "https://localhost:8080/"
        },
        "id": "OHCsNfLLY3SN",
        "outputId": "578b62c6-4e93-4913-94a7-2f79fa6906a8"
      },
      "execution_count": 23,
      "outputs": [
        {
          "output_type": "stream",
          "name": "stdout",
          "text": [
            "True\n",
            "False\n",
            "False\n",
            "True\n"
          ]
        }
      ]
    },
    {
      "cell_type": "markdown",
      "source": [
        "The reason why we care about these values and operations is because they allow us to construct one of the corner stones of programming - the *if-statement*. The importance of the if-statement lays in that it allows us to control the flow of programs based on certain conditions."
      ],
      "metadata": {
        "id": "C2gzuZSUX0qj"
      }
    },
    {
      "cell_type": "code",
      "source": [
        "if isTrue == True:\n",
        "    print(\"This is true!\")"
      ],
      "metadata": {
        "colab": {
          "base_uri": "https://localhost:8080/"
        },
        "id": "72qpvluoYjig",
        "outputId": "fc63b29f-9f58-41ee-bfde-3f40553cf567"
      },
      "execution_count": 24,
      "outputs": [
        {
          "output_type": "stream",
          "name": "stdout",
          "text": [
            "This is true!\n"
          ]
        }
      ]
    },
    {
      "cell_type": "code",
      "source": [
        "if isFalse == True:\n",
        "    print(\"This will not print!\")"
      ],
      "metadata": {
        "id": "I8x6gMgDZEOq"
      },
      "execution_count": 25,
      "outputs": []
    },
    {
      "cell_type": "markdown",
      "source": [
        "# Worked example\n",
        "\n",
        "Now lets put everything we have learned so far into a worked example. For this purpose, we will have a list of integer values from 0 to 9. We will loop through the list and check if the current value ```i``` is even. If yes, then we will simply print out \"Even.\". Otherwise, we will print out \"Odd.\"\n",
        "\n"
      ],
      "metadata": {
        "id": "UUlbCVttmhm5"
      }
    },
    {
      "cell_type": "code",
      "source": [
        "nums = [0, 1, 2, 3, 4, 5, 6, 7, 8, 9, \"10\"]"
      ],
      "metadata": {
        "id": "bIqdQ-5qqwdU"
      },
      "execution_count": 26,
      "outputs": []
    },
    {
      "cell_type": "code",
      "source": [
        "for n in nums:\n",
        "    if type(n) is int:\n",
        "        if n % 2 == 0:\n",
        "            print(\"Even.\")\n",
        "        elif n % 2 == 1:\n",
        "            print(\"Odd.\")\n",
        "    else:\n",
        "        print(\"n must be of type integer.\")"
      ],
      "metadata": {
        "colab": {
          "base_uri": "https://localhost:8080/"
        },
        "id": "7rsQar8_shFe",
        "outputId": "c1dde4b4-be59-43a4-8de8-9a33f802e81c"
      },
      "execution_count": 27,
      "outputs": [
        {
          "output_type": "stream",
          "name": "stdout",
          "text": [
            "Even.\n",
            "Odd.\n",
            "Even.\n",
            "Odd.\n",
            "Even.\n",
            "Odd.\n",
            "Even.\n",
            "Odd.\n",
            "Even.\n",
            "Odd.\n",
            "n must be of type integer.\n"
          ]
        }
      ]
    },
    {
      "cell_type": "markdown",
      "source": [
        "# Functions\n",
        "\n",
        "Finally, lets take a look at functions as a programming concept. In simple terms, a Python function is a named piece of code designed to carry out a specific task. Generally speaking, programmers are encoureged to keep functions simple and dedicated, i.e. a function should perform one task and one task only. Functions are an amazing way to improve readability as they encourage code reusability."
      ],
      "metadata": {
        "id": "YS6vt13pzMTB"
      }
    },
    {
      "cell_type": "code",
      "source": [
        "def isEven(n):\n",
        "    \"\"\"\n",
        "    This is a docstring.\n",
        "\n",
        "    Determine whether a given number is even.\n",
        "\n",
        "    Parameters:\n",
        "    n (int): The number to check.\n",
        "\n",
        "    Returns:\n",
        "    bool or None: True if the number is even, False if it is odd,\n",
        "                  and None if the input is not an integer.\n",
        "    \"\"\"\n",
        "    isEven = None\n",
        "\n",
        "    if type(n) is int:\n",
        "        if n % 2 == 0:\n",
        "            isEven = True\n",
        "        else:\n",
        "            isEven = False\n",
        "    else:\n",
        "        isEven = None\n",
        "\n",
        "    return isEven\n"
      ],
      "metadata": {
        "id": "8dxXVb0v0N9-"
      },
      "execution_count": 28,
      "outputs": []
    },
    {
      "cell_type": "code",
      "source": [
        "for n in nums:\n",
        "    print(isEven(n))"
      ],
      "metadata": {
        "colab": {
          "base_uri": "https://localhost:8080/"
        },
        "id": "2Wy2Qsex1KSn",
        "outputId": "4f349eb6-60cc-4d5d-8ea4-46af8397fba0"
      },
      "execution_count": 29,
      "outputs": [
        {
          "output_type": "stream",
          "name": "stdout",
          "text": [
            "True\n",
            "False\n",
            "True\n",
            "False\n",
            "True\n",
            "False\n",
            "True\n",
            "False\n",
            "True\n",
            "False\n",
            "None\n"
          ]
        }
      ]
    },
    {
      "cell_type": "markdown",
      "source": [
        "# Scientific computing with NumPy\n",
        "\n",
        "NumPy (https://numpy.org/) is a core library for scientific computing in Python. It is essential for other commonly used libraries such as Pandas, Scikit-Learn, and SciPy among many others. NumPy owes its popularity to its efficient implementation of n-dimensional arrays that allows for seamless linear algebra operations."
      ],
      "metadata": {
        "id": "yehCAItXwnlZ"
      }
    },
    {
      "cell_type": "code",
      "source": [
        "import numpy as np"
      ],
      "metadata": {
        "id": "ml6uKIX2AOj8"
      },
      "execution_count": 30,
      "outputs": []
    },
    {
      "cell_type": "code",
      "source": [
        "array1d = np.array([0, 1, 2])\n",
        "array2d = np.array([[0, 1, 2],\n",
        "                    [3, 4, 5],\n",
        "                    [6, 7, 8]])\n",
        "array3d = np.array([[[0, 1, 2],\n",
        "                    [3, 4, 5],\n",
        "                    [6, 7, 8]],\n",
        "                    [[0, 1, 2],\n",
        "                    [3, 4, 5],\n",
        "                    [6, 7, 8]],\n",
        "                    [[0, 1, 2],\n",
        "                    [3, 4, 5],\n",
        "                    [6, 7, 8]]])"
      ],
      "metadata": {
        "id": "eb881xg0AHcl"
      },
      "execution_count": 31,
      "outputs": []
    },
    {
      "cell_type": "code",
      "source": [
        "print(array1d)\n",
        "print(\"----------\")\n",
        "print(array2d)\n",
        "print(\"----------\")\n",
        "print(array3d)"
      ],
      "metadata": {
        "colab": {
          "base_uri": "https://localhost:8080/"
        },
        "id": "e-PmtJK7ASwZ",
        "outputId": "9df92b25-fe7e-473e-c44e-c51919487978"
      },
      "execution_count": 32,
      "outputs": [
        {
          "output_type": "stream",
          "name": "stdout",
          "text": [
            "[0 1 2]\n",
            "----------\n",
            "[[0 1 2]\n",
            " [3 4 5]\n",
            " [6 7 8]]\n",
            "----------\n",
            "[[[0 1 2]\n",
            "  [3 4 5]\n",
            "  [6 7 8]]\n",
            "\n",
            " [[0 1 2]\n",
            "  [3 4 5]\n",
            "  [6 7 8]]\n",
            "\n",
            " [[0 1 2]\n",
            "  [3 4 5]\n",
            "  [6 7 8]]]\n"
          ]
        }
      ]
    },
    {
      "cell_type": "markdown",
      "source": [
        "# Indexing and slicing a NumPy array\n",
        "\n",
        "Indexing and slicing NumPy arrays is identical to indexing and slicing Python lists."
      ],
      "metadata": {
        "id": "Xdb1BhLFAZAt"
      }
    },
    {
      "cell_type": "code",
      "source": [
        "print(array1d[0])\n",
        "print(\"----------\")\n",
        "print(array2d[1][2])\n",
        "print(\"----------\")\n",
        "print(array3d[2][1][0])"
      ],
      "metadata": {
        "colab": {
          "base_uri": "https://localhost:8080/"
        },
        "id": "fsjVHu_WP0Pf",
        "outputId": "7384c8a7-06e3-43c7-8689-b4fab7113e34"
      },
      "execution_count": 33,
      "outputs": [
        {
          "output_type": "stream",
          "name": "stdout",
          "text": [
            "0\n",
            "----------\n",
            "5\n",
            "----------\n",
            "3\n"
          ]
        }
      ]
    },
    {
      "cell_type": "code",
      "source": [
        "print(array1d[0:2])\n",
        "print(\"----------\")\n",
        "print(array2d[0:2])\n",
        "print(\"----------\")\n",
        "print(array3d[1][0:2])"
      ],
      "metadata": {
        "colab": {
          "base_uri": "https://localhost:8080/"
        },
        "id": "r2Hx8Pa1igR_",
        "outputId": "3fcdc409-dfa5-4c6c-ed8a-1bafb62c2d6f"
      },
      "execution_count": 34,
      "outputs": [
        {
          "output_type": "stream",
          "name": "stdout",
          "text": [
            "[0 1]\n",
            "----------\n",
            "[[0 1 2]\n",
            " [3 4 5]]\n",
            "----------\n",
            "[[0 1 2]\n",
            " [3 4 5]]\n"
          ]
        }
      ]
    },
    {
      "cell_type": "markdown",
      "source": [
        "# NumPy array properties\n",
        "\n",
        "Now we will take a closer look at some useful NumPy array properties. We will focus on ```array2d```, as it is complex and interesting, yet intuituive to work with.\n",
        "\n"
      ],
      "metadata": {
        "id": "dj1_1pO7kslq"
      }
    },
    {
      "cell_type": "code",
      "source": [
        "print(\"The shape of array3d is: \", array2d.shape)\n",
        "print(\"The dimensionality of array3d is: \", array2d.ndim)\n",
        "print(\"The size of array3d is: \", array2d.size)\n",
        "print(\"The type of data stored in array3d is: \", array2d.dtype)"
      ],
      "metadata": {
        "colab": {
          "base_uri": "https://localhost:8080/"
        },
        "id": "nPKeyUnCnKCn",
        "outputId": "773b2323-4764-4c33-8994-51c74d99485b"
      },
      "execution_count": 35,
      "outputs": [
        {
          "output_type": "stream",
          "name": "stdout",
          "text": [
            "The shape of array3d is:  (3, 3)\n",
            "The dimensionality of array3d is:  2\n",
            "The size of array3d is:  9\n",
            "The type of data stored in array3d is:  int64\n"
          ]
        }
      ]
    },
    {
      "cell_type": "markdown",
      "source": [
        "We can manipulate the shape of the array through the ```.shape()``` function."
      ],
      "metadata": {
        "id": "IUyeKphFpTCD"
      }
    },
    {
      "cell_type": "code",
      "source": [
        "array2d_reshaped = np.reshape(array2d, (1, 9))"
      ],
      "metadata": {
        "id": "MoPdnB89pdGQ"
      },
      "execution_count": 36,
      "outputs": []
    },
    {
      "cell_type": "code",
      "source": [
        "print(\"The shape of array2d_reshaped is: \", array2d_reshaped.shape)\n",
        "print(\"The dimensionality of array2d_reshaped is: \", array2d_reshaped.ndim)\n",
        "print(\"The size of array2d_reshaped is: \", array2d_reshaped.size)\n",
        "print(\"The type of data stored in array2d_reshaped is: \", array2d_reshaped.dtype)"
      ],
      "metadata": {
        "colab": {
          "base_uri": "https://localhost:8080/"
        },
        "id": "606iFdKWpsMk",
        "outputId": "1b691d7b-486c-4804-fc57-873bcf545dd9"
      },
      "execution_count": 37,
      "outputs": [
        {
          "output_type": "stream",
          "name": "stdout",
          "text": [
            "The shape of array2d_reshaped is:  (1, 9)\n",
            "The dimensionality of array2d_reshaped is:  2\n",
            "The size of array2d_reshaped is:  9\n",
            "The type of data stored in array2d_reshaped is:  int64\n"
          ]
        }
      ]
    },
    {
      "cell_type": "markdown",
      "source": [
        "It is perhaps a bit counter-intuitive that the reshaped array is still 2D. Lets see why this is the case."
      ],
      "metadata": {
        "id": "wqMwane0qHyi"
      }
    },
    {
      "cell_type": "code",
      "source": [
        "print(array2d_reshaped)"
      ],
      "metadata": {
        "colab": {
          "base_uri": "https://localhost:8080/"
        },
        "id": "EkzIdAqIp1jY",
        "outputId": "7023f08e-ada6-4986-c46b-1e6c64f3e4c1"
      },
      "execution_count": 38,
      "outputs": [
        {
          "output_type": "stream",
          "name": "stdout",
          "text": [
            "[[0 1 2 3 4 5 6 7 8]]\n"
          ]
        }
      ]
    },
    {
      "cell_type": "markdown",
      "source": [
        "What if we want it to be 1D?"
      ],
      "metadata": {
        "id": "0IKJHGk_qRVA"
      }
    },
    {
      "cell_type": "code",
      "source": [
        "array2d_flattened = array2d.flatten()"
      ],
      "metadata": {
        "id": "99BAOfM1p3vQ"
      },
      "execution_count": 39,
      "outputs": []
    },
    {
      "cell_type": "code",
      "source": [
        "print(\"The shape of array2d_flattened is: \", array2d_flattened.shape)\n",
        "print(\"The dimensionality of array2d_flattened is: \", array2d_flattened.ndim)\n",
        "print(\"The size of array2d_flattened is: \", array2d_flattened.size)\n",
        "print(\"The type of data stored in array2d_flattened is: \", array2d_flattened.dtype)"
      ],
      "metadata": {
        "colab": {
          "base_uri": "https://localhost:8080/"
        },
        "id": "cz-D8I38qG03",
        "outputId": "526555bb-1b97-4a1b-87c3-ff8f927bb8d5"
      },
      "execution_count": 40,
      "outputs": [
        {
          "output_type": "stream",
          "name": "stdout",
          "text": [
            "The shape of array2d_flattened is:  (9,)\n",
            "The dimensionality of array2d_flattened is:  1\n",
            "The size of array2d_flattened is:  9\n",
            "The type of data stored in array2d_flattened is:  int64\n"
          ]
        }
      ]
    },
    {
      "cell_type": "markdown",
      "source": [
        "How are ```array2d_reshaped``` and ```array2d_flattened``` different?\n",
        "\n"
      ],
      "metadata": {
        "id": "eflJRwpmrvnb"
      }
    },
    {
      "cell_type": "code",
      "source": [
        "print(\"The first element of array2d_reshaped: \", array2d_reshaped[0])\n",
        "print(\"The first element of array2d_flattened: \", array2d_flattened[0])"
      ],
      "metadata": {
        "colab": {
          "base_uri": "https://localhost:8080/"
        },
        "id": "gzHLcbqGr4VS",
        "outputId": "f4168347-9179-471b-9a39-fd0430704e9e"
      },
      "execution_count": 41,
      "outputs": [
        {
          "output_type": "stream",
          "name": "stdout",
          "text": [
            "The first element of array2d_reshaped:  [0 1 2 3 4 5 6 7 8]\n",
            "The first element of array2d_flattened:  0\n"
          ]
        }
      ]
    },
    {
      "cell_type": "markdown",
      "source": [
        "# Element-wise operations in NumPy\n",
        "\n",
        "NumPy allows for the same algebraic operations as Python does. We shall take a look at those by the means of two 2D arrays."
      ],
      "metadata": {
        "id": "dbGxxunMukXo"
      }
    },
    {
      "cell_type": "code",
      "source": [
        "m1 = np.array([[0, 1],\n",
        "               [2, 3]])\n",
        "\n",
        "m2 = np.array([[4, 5],\n",
        "               [6, 7]])"
      ],
      "metadata": {
        "id": "nhboUVV0u1GL"
      },
      "execution_count": 42,
      "outputs": []
    },
    {
      "cell_type": "code",
      "source": [
        "m3_add = m1 + m2\n",
        "m3_sub = m2 - m1\n",
        "m3_mul = m1 * m2\n",
        "m3_div = m3_mul / m2\n",
        "m3_pow = m1 ** 2"
      ],
      "metadata": {
        "id": "lv4D5fVKu_Cp"
      },
      "execution_count": 43,
      "outputs": []
    },
    {
      "cell_type": "code",
      "source": [
        "print(m3_add)"
      ],
      "metadata": {
        "colab": {
          "base_uri": "https://localhost:8080/"
        },
        "id": "EBGGRS6RvQZa",
        "outputId": "42572830-029d-4c4d-9c8f-1d5882c731bc"
      },
      "execution_count": 44,
      "outputs": [
        {
          "output_type": "stream",
          "name": "stdout",
          "text": [
            "[[ 4  6]\n",
            " [ 8 10]]\n"
          ]
        }
      ]
    },
    {
      "cell_type": "code",
      "source": [
        "print(m3_sub)"
      ],
      "metadata": {
        "colab": {
          "base_uri": "https://localhost:8080/"
        },
        "id": "aLLgFZExvXvM",
        "outputId": "7771fe75-6284-4799-e87b-116c07251855"
      },
      "execution_count": 45,
      "outputs": [
        {
          "output_type": "stream",
          "name": "stdout",
          "text": [
            "[[4 4]\n",
            " [4 4]]\n"
          ]
        }
      ]
    },
    {
      "cell_type": "code",
      "source": [
        "print(m3_mul)"
      ],
      "metadata": {
        "colab": {
          "base_uri": "https://localhost:8080/"
        },
        "id": "wyJp0aaNvYBG",
        "outputId": "87bb72fe-ab78-4add-9f3d-f581700b83ba"
      },
      "execution_count": 46,
      "outputs": [
        {
          "output_type": "stream",
          "name": "stdout",
          "text": [
            "[[ 0  5]\n",
            " [12 21]]\n"
          ]
        }
      ]
    },
    {
      "cell_type": "code",
      "source": [
        "print(m3_div)"
      ],
      "metadata": {
        "colab": {
          "base_uri": "https://localhost:8080/"
        },
        "id": "rJvBz2aXvYa6",
        "outputId": "b98c8a4e-5bd0-421a-bcee-60c34200a88e"
      },
      "execution_count": 47,
      "outputs": [
        {
          "output_type": "stream",
          "name": "stdout",
          "text": [
            "[[0. 1.]\n",
            " [2. 3.]]\n"
          ]
        }
      ]
    },
    {
      "cell_type": "code",
      "source": [
        "print(m3_pow)"
      ],
      "metadata": {
        "colab": {
          "base_uri": "https://localhost:8080/"
        },
        "id": "OatMaCAqvY4w",
        "outputId": "da30b272-87b6-4da2-d8aa-aedfb4ed674f"
      },
      "execution_count": 48,
      "outputs": [
        {
          "output_type": "stream",
          "name": "stdout",
          "text": [
            "[[0 1]\n",
            " [4 9]]\n"
          ]
        }
      ]
    },
    {
      "cell_type": "markdown",
      "source": [
        "NumPy also offers a range of useful aggregation functions."
      ],
      "metadata": {
        "id": "GUcSoncpvtwU"
      }
    },
    {
      "cell_type": "code",
      "source": [
        "print(\"The sum of m1: \", np.sum(m1))\n",
        "print(\"The mean of m1: \", np.mean(m1))\n",
        "print(\"The std of m1: \", np.std(m1))\n",
        "print(\"The min of m1: \", np.min(m1))\n",
        "print(\"The max of m1: \", np.max(m1))"
      ],
      "metadata": {
        "colab": {
          "base_uri": "https://localhost:8080/"
        },
        "id": "hdaksbSLvxvJ",
        "outputId": "f000059a-cdc8-495a-998b-13d0c08a7ccb"
      },
      "execution_count": 49,
      "outputs": [
        {
          "output_type": "stream",
          "name": "stdout",
          "text": [
            "The sum of m1:  6\n",
            "The mean of m1:  1.5\n",
            "The std of m1:  1.118033988749895\n",
            "The min of m1:  0\n",
            "The max of m1:  3\n"
          ]
        }
      ]
    },
    {
      "cell_type": "markdown",
      "source": [
        "# Working with matrices\n",
        "\n",
        "Last but not least, NumPy allows for efficient matrix operations, such as matrix transposition."
      ],
      "metadata": {
        "id": "ROzTgGqbwcA3"
      }
    },
    {
      "cell_type": "code",
      "source": [
        "m1_transpose = m1.T"
      ],
      "metadata": {
        "id": "5XqmWpynw5i9"
      },
      "execution_count": 50,
      "outputs": []
    },
    {
      "cell_type": "code",
      "source": [
        "print(m1_transpose)"
      ],
      "metadata": {
        "colab": {
          "base_uri": "https://localhost:8080/"
        },
        "id": "sMXpRPgSw9x5",
        "outputId": "8a7d8f4d-96f9-402e-d456-edc929366ba2"
      },
      "execution_count": 51,
      "outputs": [
        {
          "output_type": "stream",
          "name": "stdout",
          "text": [
            "[[0 2]\n",
            " [1 3]]\n"
          ]
        }
      ]
    },
    {
      "cell_type": "markdown",
      "source": [
        "Matrix multiplication."
      ],
      "metadata": {
        "id": "zJFbRxrAxK0p"
      }
    },
    {
      "cell_type": "code",
      "source": [
        "mat_mul = m1 @ m2\n",
        "mat_dot = np.dot(m1, m2)"
      ],
      "metadata": {
        "id": "3hMW2nyuxDtK"
      },
      "execution_count": 52,
      "outputs": []
    },
    {
      "cell_type": "code",
      "source": [
        "print(mat_mul)\n",
        "print(\"----------\")\n",
        "print(mat_dot)"
      ],
      "metadata": {
        "colab": {
          "base_uri": "https://localhost:8080/"
        },
        "id": "y7IRP9sWxTBn",
        "outputId": "069b723f-b5e4-4c84-c05f-e376e6edecb9"
      },
      "execution_count": 53,
      "outputs": [
        {
          "output_type": "stream",
          "name": "stdout",
          "text": [
            "[[ 6  7]\n",
            " [26 31]]\n",
            "----------\n",
            "[[ 6  7]\n",
            " [26 31]]\n"
          ]
        }
      ]
    },
    {
      "cell_type": "markdown",
      "source": [
        "Matrix inversion."
      ],
      "metadata": {
        "id": "OExxxsjExXbM"
      }
    },
    {
      "cell_type": "code",
      "source": [
        "m1_inv = np.linalg.inv(m1)"
      ],
      "metadata": {
        "id": "qEpeiiDfxdqv"
      },
      "execution_count": 54,
      "outputs": []
    },
    {
      "cell_type": "code",
      "source": [
        "print(m1_inv)"
      ],
      "metadata": {
        "colab": {
          "base_uri": "https://localhost:8080/"
        },
        "id": "zj-ueSI9xg08",
        "outputId": "76960e63-4f35-4cfe-a01f-093b00e161a3"
      },
      "execution_count": 55,
      "outputs": [
        {
          "output_type": "stream",
          "name": "stdout",
          "text": [
            "[[-1.5  0.5]\n",
            " [ 1.   0. ]]\n"
          ]
        }
      ]
    },
    {
      "cell_type": "markdown",
      "source": [
        "Determinant calculation."
      ],
      "metadata": {
        "id": "HmVt_DMDxi2F"
      }
    },
    {
      "cell_type": "code",
      "source": [
        "m2_det = np.linalg.det(m2)"
      ],
      "metadata": {
        "id": "_faLNJOsxlI0"
      },
      "execution_count": 56,
      "outputs": []
    },
    {
      "cell_type": "code",
      "source": [
        "print(m2_det)"
      ],
      "metadata": {
        "colab": {
          "base_uri": "https://localhost:8080/"
        },
        "id": "wQvQ5aLKyWK8",
        "outputId": "6cab586d-8e78-4625-e672-86698a4b6214"
      },
      "execution_count": 57,
      "outputs": [
        {
          "output_type": "stream",
          "name": "stdout",
          "text": [
            "-2.000000000000003\n"
          ]
        }
      ]
    },
    {
      "cell_type": "markdown",
      "source": [
        "Ocasionally, we know the size and dimensionality of the matrix we wish to arrive at, but we are yet to figure out its values. In those cases, computer scientists initialize a dummy matrix that contains the same value everywhere. NumPy offers functionality to do that for us."
      ],
      "metadata": {
        "id": "0Uvqo91VzXZk"
      }
    },
    {
      "cell_type": "code",
      "source": [
        "array_zeros = np.zeros((3,3))\n",
        "array_ones  = np.ones((3,3))"
      ],
      "metadata": {
        "id": "9Kg-uLLHztPI"
      },
      "execution_count": 58,
      "outputs": []
    },
    {
      "cell_type": "code",
      "source": [
        "print(array_zeros)\n",
        "print(\"----------\")\n",
        "print(array_ones)"
      ],
      "metadata": {
        "colab": {
          "base_uri": "https://localhost:8080/"
        },
        "id": "2BwH51xMz5Yd",
        "outputId": "16641369-e16c-4ac7-8c1a-ee932cd00a8d"
      },
      "execution_count": 59,
      "outputs": [
        {
          "output_type": "stream",
          "name": "stdout",
          "text": [
            "[[0. 0. 0.]\n",
            " [0. 0. 0.]\n",
            " [0. 0. 0.]]\n",
            "----------\n",
            "[[1. 1. 1.]\n",
            " [1. 1. 1.]\n",
            " [1. 1. 1.]]\n"
          ]
        }
      ]
    },
    {
      "cell_type": "markdown",
      "source": [
        "Such occasion might be if we wanted to implement one of the element-wise operations from scratch. We know that the final matrix should have 4 elements and be 2 $\\times$ 2 but we do not know the values yet."
      ],
      "metadata": {
        "id": "S9IrvRVk1fjj"
      }
    },
    {
      "cell_type": "code",
      "source": [
        "m3 = np.zeros((2,2))\n",
        "\n",
        "for i in range(m1.shape[0]):\n",
        "    for j in range(m1.shape[1]):\n",
        "        m3[i][j] = m1[i][j] * m2[i][j]\n",
        "\n",
        "print(m3)"
      ],
      "metadata": {
        "colab": {
          "base_uri": "https://localhost:8080/"
        },
        "id": "g77xHXt11fEe",
        "outputId": "8d8e8145-8eeb-4863-8391-68b158f86d5f"
      },
      "execution_count": 60,
      "outputs": [
        {
          "output_type": "stream",
          "name": "stdout",
          "text": [
            "[[ 0.  5.]\n",
            " [12. 21.]]\n"
          ]
        }
      ]
    },
    {
      "cell_type": "markdown",
      "source": [
        "# Why should I care about NumPy arrays when we already have Python lists?\n",
        "\n",
        "Because NumPy arrays are faster. Lets look at a simple experiment. We will start by importing the ```time``` library. Note that all the details about ```time``` are not important for this course.\n",
        "\n"
      ],
      "metadata": {
        "id": "wnwmIyWYXRV4"
      }
    },
    {
      "cell_type": "code",
      "source": [
        "import time"
      ],
      "metadata": {
        "id": "aP_2iDK7ZRns"
      },
      "execution_count": 61,
      "outputs": []
    },
    {
      "cell_type": "markdown",
      "source": [
        "We will then define a Python list and a NumPy array of the same shape (1D) and size."
      ],
      "metadata": {
        "id": "NOIZI2OxZTmR"
      }
    },
    {
      "cell_type": "code",
      "source": [
        "size     = 10**5\n",
        "py_list  = list(range(size))\n",
        "np_array = np.arange(size)"
      ],
      "metadata": {
        "id": "m6wkkS2wZb7q"
      },
      "execution_count": 62,
      "outputs": []
    },
    {
      "cell_type": "markdown",
      "source": [
        "We will then record the current time at executing the code cell, iterate over the Python list and multiply each of its elements by 2, and finally, get the total runtime by subtracting the starting time from the time of finishing the operation."
      ],
      "metadata": {
        "id": "zbRkrnZBZkwD"
      }
    },
    {
      "cell_type": "code",
      "source": [
        "start_time     = time.time()\n",
        "py_list_result = [x * 2 for x in py_list] # This is a list comperhenssion.\n",
        "py_list_time   = time.time() - start_time"
      ],
      "metadata": {
        "id": "6-TYo0fZaeCi"
      },
      "execution_count": 63,
      "outputs": []
    },
    {
      "cell_type": "markdown",
      "source": [
        "Do the same for the NumPy array."
      ],
      "metadata": {
        "id": "OBCc5SLYaeat"
      }
    },
    {
      "cell_type": "code",
      "source": [
        "start_time      = time.time()\n",
        "np_array_result = np_array * 2\n",
        "np_time         = time.time() - start_time"
      ],
      "metadata": {
        "id": "5xdp94F5aicQ"
      },
      "execution_count": 64,
      "outputs": []
    },
    {
      "cell_type": "markdown",
      "source": [
        "Simply compare the results."
      ],
      "metadata": {
        "id": "2hPemfHoait8"
      }
    },
    {
      "cell_type": "code",
      "source": [
        "print(f\"Python list time: {py_list_time:.6f} seconds\")\n",
        "print(f\"NumPy array time: {np_time:.6f} seconds\")\n",
        "print(f\"Speedup: {py_list_time / np_time:.2f}x faster with NumPy\")"
      ],
      "metadata": {
        "colab": {
          "base_uri": "https://localhost:8080/"
        },
        "id": "D5sY5aoaalpM",
        "outputId": "4d0bddd0-af9b-42d3-f95a-84280d2bab33"
      },
      "execution_count": 65,
      "outputs": [
        {
          "output_type": "stream",
          "name": "stdout",
          "text": [
            "Python list time: 0.011798 seconds\n",
            "NumPy array time: 0.001438 seconds\n",
            "Speedup: 8.20x faster with NumPy\n"
          ]
        }
      ]
    }
  ]
}